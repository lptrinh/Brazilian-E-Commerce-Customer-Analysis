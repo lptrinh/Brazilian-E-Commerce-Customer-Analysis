{
 "cells": [
  {
   "cell_type": "code",
   "execution_count": 1,
   "id": "3b6583dd",
   "metadata": {},
   "outputs": [],
   "source": [
    "import pandas as pd\n",
    "# Load datasets\n",
    "orders = pd.read_csv(r\"C:\\Users\\Ms Trinh\\OneDrive - SRITHAI (VIET NAM) Co.Ltd\\brazilian-ecommerce_2020\\olist_orders_dataset.csv\", parse_dates=['order_purchase_timestamp'])\n",
    "order_items = pd.read_csv(r\"C:\\Users\\Ms Trinh\\OneDrive - SRITHAI (VIET NAM) Co.Ltd\\brazilian-ecommerce_2020\\olist_order_items_dataset.csv\")\n",
    "order_payments = pd.read_csv(r\"C:\\Users\\Ms Trinh\\OneDrive - SRITHAI (VIET NAM) Co.Ltd\\brazilian-ecommerce_2020\\olist_order_payments_dataset.csv\")\n",
    "customers = pd.read_csv(r\"C:\\Users\\Ms Trinh\\OneDrive - SRITHAI (VIET NAM) Co.Ltd\\brazilian-ecommerce_2020\\olist_customers_dataset.csv\")"
   ]
  },
  {
   "cell_type": "markdown",
   "id": "5d1686b0",
   "metadata": {},
   "source": [
    "\n",
    "# EDA"
   ]
  },
  {
   "cell_type": "markdown",
   "id": "a78a00fe",
   "metadata": {},
   "source": [
    "## Explore orders"
   ]
  },
  {
   "cell_type": "code",
   "execution_count": 2,
   "id": "4e8a4dd8",
   "metadata": {},
   "outputs": [
    {
     "name": "stdout",
     "output_type": "stream",
     "text": [
      "{'no_rows': 99441, 'no_customer_id': 99441}\n"
     ]
    }
   ],
   "source": [
    "print({'no_rows': len(orders),\n",
    "      'no_customer_id': orders['customer_id'].nunique()})"
   ]
  },
  {
   "cell_type": "code",
   "execution_count": null,
   "id": "0640dcf4",
   "metadata": {},
   "outputs": [
    {
     "name": "stdout",
     "output_type": "stream",
     "text": [
      "{'status': array(['delivered', 'invoiced', 'shipped', 'processing', 'unavailable',\n",
      "       'canceled', 'created', 'approved'], dtype=object), 'status_counts': order_status\n",
      "delivered      96478\n",
      "shipped         1107\n",
      "canceled         625\n",
      "unavailable      609\n",
      "invoiced         314\n",
      "processing       301\n",
      "created            5\n",
      "approved           2\n",
      "Name: count, dtype: int64, 'status_rates': order_status\n",
      "delivered      97.020\n",
      "shipped         1.113\n",
      "canceled        0.629\n",
      "unavailable     0.612\n",
      "invoiced        0.316\n",
      "processing      0.303\n",
      "created         0.005\n",
      "approved        0.002\n",
      "Name: proportion, dtype: float64}\n"
     ]
    }
   ],
   "source": [
    "print({\n",
    "    'status': orders['order_status'].unique(),\n",
    "    'status_counts': orders['order_status'].value_counts(),\n",
    "    'status_rates': orders['order_status'].value_counts(normalize=True).round(5)*100  \n",
    "}\n",
    "      )"
   ]
  },
  {
   "cell_type": "code",
   "execution_count": 11,
   "id": "ec266595",
   "metadata": {},
   "outputs": [
    {
     "name": "stdout",
     "output_type": "stream",
     "text": [
      "order_id                            0\n",
      "customer_id                         0\n",
      "order_status                        0\n",
      "order_purchase_timestamp            0\n",
      "order_approved_at                 160\n",
      "order_delivered_carrier_date     1783\n",
      "order_delivered_customer_date    2965\n",
      "order_estimated_delivery_date       0\n",
      "dtype: int64\n"
     ]
    }
   ],
   "source": [
    "print(orders.isnull().sum())"
   ]
  },
  {
   "cell_type": "markdown",
   "id": "27e7c8e7",
   "metadata": {},
   "source": [
    "- The data seems to show only one-time customer_id as the number of rows equals to the number of customer_id\n",
    "- The overall successful delivery rate is more than 97 percents. We will set and retrieve the values ​​that have order_status as \"delivered“\n",
    "- "
   ]
  },
  {
   "cell_type": "code",
   "execution_count": 13,
   "id": "50667143",
   "metadata": {},
   "outputs": [],
   "source": [
    "# Clean orders\n",
    "orders = orders[orders['order_status'].isin(['delivered'])]\n",
    "orders = orders[['order_id', 'customer_id', 'order_purchase_timestamp']]"
   ]
  },
  {
   "cell_type": "markdown",
   "id": "c8dad592",
   "metadata": {},
   "source": [
    "## Explore orders_payments"
   ]
  },
  {
   "cell_type": "code",
   "execution_count": 14,
   "id": "7a30945e",
   "metadata": {},
   "outputs": [
    {
     "name": "stdout",
     "output_type": "stream",
     "text": [
      "{'payment_type': array(['credit_card', 'boleto', 'voucher', 'debit_card', 'not_defined'],\n",
      "      dtype=object), 'payment_type_counts': payment_type\n",
      "credit_card    76795\n",
      "boleto         19784\n",
      "voucher         5775\n",
      "debit_card      1529\n",
      "not_defined        3\n",
      "Name: count, dtype: int64, 'payment_type_rates': payment_type\n",
      "credit_card    73.922\n",
      "boleto         19.044\n",
      "voucher         5.559\n",
      "debit_card      1.472\n",
      "not_defined     0.003\n",
      "Name: proportion, dtype: float64}\n"
     ]
    }
   ],
   "source": [
    "print({\n",
    "    'payment_type': order_payments['payment_type'].unique(),\n",
    "    'payment_type_counts': order_payments['payment_type'].value_counts(),\n",
    "    'payment_type_rates': order_payments['payment_type'].value_counts(normalize=True).round(5)*100 \n",
    "    })"
   ]
  },
  {
   "cell_type": "markdown",
   "id": "24be95da",
   "metadata": {},
   "source": [
    "- Credit_card and boleto account for approximately 93% of the payment type\n",
    "- We will set and retrieve the values ​​that not have payment_type as “not_defined“"
   ]
  },
  {
   "cell_type": "code",
   "execution_count": 15,
   "id": "20252b60",
   "metadata": {},
   "outputs": [],
   "source": [
    "# Clean order_payments\n",
    "valid_types = ['credit_card', 'boleto', 'voucher', 'debit_card']\n",
    "order_payments = order_payments[order_payments['payment_type'].isin(valid_types)]\n",
    "payments_cleaned = order_payments.groupby('order_id')['payment_value'].sum().reset_index()"
   ]
  },
  {
   "cell_type": "markdown",
   "id": "512dd5c3",
   "metadata": {},
   "source": [
    "## Explore customers"
   ]
  },
  {
   "cell_type": "code",
   "execution_count": 16,
   "id": "7083bcaf",
   "metadata": {},
   "outputs": [
    {
     "name": "stdout",
     "output_type": "stream",
     "text": [
      "   no_rows  no_customer_id  no_unique_customer_id  no_distinct_city  \\\n",
      "0    99441           99441                  96096              4119   \n",
      "\n",
      "   no_distinct_state  \n",
      "0                 27  \n"
     ]
    }
   ],
   "source": [
    "summary = {\n",
    "    'no_rows': len(customers),\n",
    "    'no_customer_id': customers['customer_id'].nunique(),\n",
    "    'no_unique_customer_id': customers['customer_unique_id'].nunique(),\n",
    "    'no_distinct_city': customers['customer_city'].nunique(),\n",
    "    'no_distinct_state': customers['customer_state'].nunique()\n",
    "}\n",
    "summary_df = pd.DataFrame([summary])\n",
    "print(summary_df)"
   ]
  },
  {
   "cell_type": "markdown",
   "id": "72270ccd",
   "metadata": {},
   "source": [
    "no_customer_id = 99,441 > 96,096 = no_unique_customer_id so some customers might have more than one customer_id"
   ]
  },
  {
   "cell_type": "code",
   "execution_count": 17,
   "id": "c9e339cd",
   "metadata": {},
   "outputs": [],
   "source": [
    "# Clean customers\n",
    "customers = customers.dropna(subset=['customer_state', 'customer_city'])\n",
    "customers = customers[['customer_unique_id','customer_id', 'customer_state', 'customer_city']]"
   ]
  },
  {
   "cell_type": "markdown",
   "id": "2b7e497c",
   "metadata": {},
   "source": [
    "# RFM Analysis\n",
    "To calculate recency, frequency and monetary value we will use unsupervised learning method to scoring customers."
   ]
  },
  {
   "cell_type": "markdown",
   "id": "9b67e693",
   "metadata": {},
   "source": [
    "### Merge datasets to create RFM DataFrame\n",
    "RFM DataFrame is taken from 3 tables: orders, order_payments, customers. Therefore we will join these 2 tables together based on the key column customerID. "
   ]
  },
  {
   "cell_type": "code",
   "execution_count": 18,
   "id": "92357c9f",
   "metadata": {},
   "outputs": [],
   "source": [
    "df_rfm_raw = orders.merge(order_items, on='order_id', how='left') \\\n",
    "                   .merge(payments_cleaned, on='order_id', how='left') \\\n",
    "                   .merge(customers, on='customer_id', how='left')"
   ]
  },
  {
   "cell_type": "markdown",
   "id": "839d0099",
   "metadata": {},
   "source": [
    "### Define analysis date"
   ]
  },
  {
   "cell_type": "code",
   "execution_count": 19,
   "id": "439a9db1",
   "metadata": {},
   "outputs": [],
   "source": [
    "analysis_date = df_rfm_raw['order_purchase_timestamp'].max()"
   ]
  },
  {
   "cell_type": "markdown",
   "id": "eab93861",
   "metadata": {},
   "source": [
    "### Recency\n",
    "We calculate Recency by measure the time of the last order of minus the most recent purchase day."
   ]
  },
  {
   "cell_type": "code",
   "execution_count": 20,
   "id": "334b292d",
   "metadata": {},
   "outputs": [],
   "source": [
    "recency_df = df_rfm_raw.groupby('customer_unique_id')['order_purchase_timestamp'].max().reset_index()\n",
    "recency_df['Recency'] = (analysis_date - recency_df['order_purchase_timestamp']).dt.days"
   ]
  },
  {
   "cell_type": "markdown",
   "id": "5a1cc693",
   "metadata": {},
   "source": [
    "### Frequency\n",
    "We count the total time that customer buy our products."
   ]
  },
  {
   "cell_type": "code",
   "execution_count": 21,
   "id": "f3fc2cb8",
   "metadata": {},
   "outputs": [],
   "source": [
    "frequency_df = df_rfm_raw.groupby('customer_unique_id')['order_id'].nunique().reset_index()\n",
    "frequency_df.rename(columns={'order_id': 'Frequency'}, inplace=True)"
   ]
  },
  {
   "cell_type": "markdown",
   "id": "5ecbb2ca",
   "metadata": {},
   "source": [
    "### Monetary\n",
    "We count total money that customers have spent on our products."
   ]
  },
  {
   "cell_type": "code",
   "execution_count": 22,
   "id": "7fcd69f4",
   "metadata": {},
   "outputs": [],
   "source": [
    "monetary_df = df_rfm_raw.groupby('customer_unique_id')['payment_value'].sum().reset_index()\n",
    "monetary_df.rename(columns={'payment_value': 'Monetary'}, inplace=True)"
   ]
  },
  {
   "cell_type": "code",
   "execution_count": 23,
   "id": "c58132ad",
   "metadata": {},
   "outputs": [],
   "source": [
    "rfm = recency_df[['customer_unique_id', 'Recency']] \\\n",
    "    .merge(frequency_df, on='customer_unique_id') \\\n",
    "    .merge(monetary_df, on='customer_unique_id')"
   ]
  },
  {
   "cell_type": "markdown",
   "id": "ce672508",
   "metadata": {},
   "source": [
    "### Score metrics by IQR\n",
    "After calculate R, F, M values we score customers based on IQR, divide data set into 4 ranges with highest score is 4 and lowest is 1 we have these quartiles."
   ]
  },
  {
   "cell_type": "code",
   "execution_count": 24,
   "id": "ead83b72",
   "metadata": {},
   "outputs": [],
   "source": [
    "rfm['R_score'] = pd.qcut(rfm['Recency'], 4, labels=[4, 3, 2, 1])\n",
    "rfm['F_score'] = pd.qcut(rfm['Frequency'].rank(method='first'), 4, labels=[1, 2, 3, 4])\n",
    "rfm['M_score'] = pd.qcut(rfm['Monetary'], 4, labels=[1, 2, 3, 4])"
   ]
  },
  {
   "cell_type": "code",
   "execution_count": null,
   "id": "9d4bfd58",
   "metadata": {},
   "outputs": [],
   "source": [
    "rfm['RFM_Score'] = rfm['R_score'].astype(str) + rfm['F_score'].astype(str) + rfm['M_score'].astype(str)"
   ]
  },
  {
   "cell_type": "markdown",
   "id": "5d6b48b9",
   "metadata": {},
   "source": [
    "### Segment as BCG Matrix degrees\n",
    "We will segment customers into 4 BCG groups based on their RFM value:\n",
    "- STARS: 444, 443, 434, 344, 433, 343, 334\n",
    "\n",
    "- QUESTION MARKS: 224, 214, , 223, 213, 323, 423, 413, 233, 243, 313, 234, 314, 244, 414, 333, 423, 324, 424\n",
    "\n",
    "- CASH COWS\n",
    "331, 341, 431, 441, 332, 342, 432, 442, 231,322, 242, 232, 422\n",
    "\n",
    "- PET(DOGS): 112, 121, 211, 122, 221, 212, 222, 111, 241, 141, 131, 311, 321, 312, 132, 142, 123, 113, 114, 124, 143, 133,\n",
    "134, 144, 411, 412, 421\n"
   ]
  },
  {
   "cell_type": "code",
   "execution_count": 26,
   "id": "1e019ecd",
   "metadata": {},
   "outputs": [],
   "source": [
    "def segment_customer(rfm_code):\n",
    "    if rfm_code in ['444', '443', '434', '344', '433', '343', '334']:\n",
    "        return 'STAR'\n",
    "    elif rfm_code in ['224', '214', '223', '213', '323', '423', '413', '233', '243', \n",
    "                      '313', '234', '314', '414', '244', '333', '424', '324']:\n",
    "        return 'QUESTION MARK'\n",
    "    elif rfm_code in ['331', '341', '431', '441', '332', '342', '432', '442', \n",
    "                      '231', '322', '242', '232', '422']:\n",
    "        return 'CASH COW'\n",
    "    else:\n",
    "        return 'DOGS'"
   ]
  },
  {
   "cell_type": "code",
   "execution_count": 27,
   "id": "fedd27a6",
   "metadata": {},
   "outputs": [],
   "source": [
    "rfm['Segment'] = rfm['RFM_Score'].apply(segment_customer)\n",
    "rfm.to_excel(\"rfm_customer_segmentation.xlsx\", index=False)"
   ]
  }
 ],
 "metadata": {
  "kernelspec": {
   "display_name": "base",
   "language": "python",
   "name": "python3"
  },
  "language_info": {
   "codemirror_mode": {
    "name": "ipython",
    "version": 3
   },
   "file_extension": ".py",
   "mimetype": "text/x-python",
   "name": "python",
   "nbconvert_exporter": "python",
   "pygments_lexer": "ipython3",
   "version": "3.12.7"
  }
 },
 "nbformat": 4,
 "nbformat_minor": 5
}
